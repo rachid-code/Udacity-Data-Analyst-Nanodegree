{
 "cells": [
  {
   "cell_type": "markdown",
   "metadata": {},
   "source": [
    "# WRANGLING REPORT\n",
    "## INTRODUCTION\n",
    "L'objectif de ce projet est de mettre en pratique ce que j'ai appris dans la section Data Wrangling du programme Udacity Data Analysis Nanodegree. Les données qui ont été traitées sont une archive de tweets de l'utilisateur Twitter @dog rate, également connu sous le nom de WeRateDogs. WeRateDogs est un compte Twitter qui évalue les chiens des gens en laissant un commentaire humoristique sur le chien. Ces pièces ont presque toujours un dénominateur de dix. Ce projet m'a permis de developper mes competences en colectes de donnes. Le projet est sudivise en 3 parties: Gathering, Assess et le cleaning.\n",
    "\n",
    "## GATHERING DATA\n",
    "Dans ce projet il fallait collecter les donnees de 3 sources diferentes et les stocker dans 3 dataset  \n",
    "    -Fichier d'archive Twitter : le fichier twitter_archive_enhanced.csv a été fourni par\n",
    "Udacity et téléchargé manuellement.  \n",
    "    -Les prédictions d'image de tweet, c'est-à-dire quelle race est présente dans chaque tweet\n",
    "selon un réseau de neurones. Ce fichier (image_predictions.tsv) est hébergé\n",
    "sur les serveurs d'Udacity et a été téléchargé par programme en utilisant le\n",
    "Demande des informations sur la bibliothèque et l'URL  \n",
    "    -API Twitter et JSON : J'ai lu ce fichier tweetjson.txt ligne par ligne dans un\n",
    "cadre de données pandas avec identifiant de tweet, nombre de favoris, nombre de retweets, abonnés\n",
    "nombre, nombre d'amis, source, statut retweeté et URL.  \n",
    "\n",
    "## ASSESSING DATA  \n",
    "\n",
    "Une fois les trois tableaux obtenus, j'ai évalué les données comme suit :  \n",
    "• Visuellement, j'ai utilisé deux outils. L'une était en imprimant les trois entiers\n",
    "les dataframes se séparent dans Jupyter Notebook et deux en vérifiant le csv\n",
    "fichiers dans Excel.  \n",
    "• Par programmation, en utilisant différentes méthodes (par exemple, info, value_counts,\n",
    "exemple, dupliqué, groupé, etc.).  \n",
    "Ensuite, j'ai séparé les problèmes rencontrés en problèmes de qualité et problèmes de propreté.\n",
    "Les points clés à garder à l'esprit pour ce processus étaient que les notes originales avec des images\n",
    "étaient recherchés \n",
    "\n",
    "## CLEANING DATA  \n",
    "\n",
    "Cette partie de l'analyse des données a été divisée en trois parties : définir, coder et tester\n",
    "le code. Ces trois étapes portaient sur chacune des questions décrites dans l'évaluation\n",
    "section.  \n",
    "La première et très utile étape consistait à créer une copie des trois dataframes d'origine. j'ai écris les codes pour manipuler les copies. S'il y avait une erreur, je pourrais créer un\n",
    "nouvelle copie de l'original. \n",
    "Il y avait quelques étapes de nettoyage qui étaient très difficiles. L'une d'elles\n",
    "était de faire fondre les étapes du chien dans une colonne à la place\n",
    "de quatre colonnes comme original présenté dans l'archive twitter.  \n",
    "Une  autre étape de nettoyage très difficile a été lorsque j'ai dû corriger certains numérateurs\n",
    "qui étaient de véritables décimales. Cette question a été portée à mon attention.  \n",
    "\n",
    "## CONCLUSION  \n",
    "\n",
    "La prepation des données est une compétence de base que quiconque manipule des données doit connaître.\n",
    "J'ai utilisé le langage de programmation Python et certains de ses packages. Il y a\n",
    "plusieurs avantages de cet outil (par rapport à par exemple Excel) qui est utilisé par de nombreux\n",
    "des scientifiques des données (y compris les gars de Facebook)."
   ]
  },
  {
   "cell_type": "code",
   "execution_count": null,
   "metadata": {},
   "outputs": [],
   "source": []
  },
  {
   "cell_type": "code",
   "execution_count": null,
   "metadata": {},
   "outputs": [],
   "source": []
  }
 ],
 "metadata": {
  "kernelspec": {
   "display_name": "Python 3",
   "language": "python",
   "name": "python3"
  },
  "language_info": {
   "codemirror_mode": {
    "name": "ipython",
    "version": 3
   },
   "file_extension": ".py",
   "mimetype": "text/x-python",
   "name": "python",
   "nbconvert_exporter": "python",
   "pygments_lexer": "ipython3",
   "version": "3.6.3"
  }
 },
 "nbformat": 4,
 "nbformat_minor": 2
}
